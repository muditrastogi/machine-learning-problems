{
 "cells": [
  {
   "cell_type": "code",
   "execution_count": 1,
   "metadata": {
    "collapsed": false
   },
   "outputs": [
    {
     "name": "stdout",
     "output_type": "stream",
     "text": [
      "hell numpy\n"
     ]
    }
   ],
   "source": [
    "from numpy import *\n",
    "from sklearn import svm\n",
    "from sklearn import metrics\n",
    "from sklearn import decomposition\n",
    "import pandas as pd\n",
    "import matplotlib.pyplot as plt\n",
    "import csv\n",
    "import numpy as np\n",
    "print \"hell numpy\"\n"
   ]
  },
  {
   "cell_type": "code",
   "execution_count": 2,
   "metadata": {
    "collapsed": false
   },
   "outputs": [
    {
     "name": "stdout",
     "output_type": "stream",
     "text": [
      "(140707, 76)\n",
      "(1000, 76)\n",
      "(140707,)\n",
      "(1000,)\n",
      "OK\n"
     ]
    }
   ],
   "source": [
    "data_array = np.genfromtxt(\n",
    "    'Twitter-Absolute-Sigma-500.csv',           # file name\n",
    "    skip_header=0,          # lines to skip at the top\n",
    "    skip_footer=0,          # lines to skip at the bottom\n",
    "    delimiter=',',          # column delimiter\n",
    "    dtype='float32'        # data type\n",
    "    ) \n",
    "\n",
    "label_array = np.genfromtxt(\n",
    "    'twitter_label.csv',           # file name\n",
    "    skip_header=0,          # lines to skip at the top\n",
    "    skip_footer=0,          # lines to skip at the bottom\n",
    "    delimiter=',',          # column delimiter\n",
    "    dtype='float32'        # data type\n",
    "    ) \n",
    "\n",
    "h = 50\n",
    "\n",
    "\n",
    "X = data_array[:, 0:76]\n",
    "print X.shape\n",
    "X1 = data_array[0:1000,0:76]\n",
    "print X1.shape\n",
    "\n",
    "y = label_array\n",
    "print y.shape\n",
    "y1 = label_array[0:1000,]\n",
    "print y1.shape\n",
    "\n",
    "print \"OK\""
   ]
  },
  {
   "cell_type": "code",
   "execution_count": 3,
   "metadata": {
    "collapsed": false
   },
   "outputs": [
    {
     "name": "stdout",
     "output_type": "stream",
     "text": [
      "(1000, 76)\n",
      "(1000,)\n",
      "1000\n",
      "***********NAIVE BAYE ACcuracy**********\n",
      "0.569\n"
     ]
    }
   ],
   "source": [
    "X2 = data_array[1000:2000,0:76]\n",
    "print X2.shape\n",
    "\n",
    "y2 = label_array[1000:2000,]\n",
    "print y2.shape\n",
    "\n",
    "from sklearn.naive_bayes import GaussianNB\n",
    "gnb = GaussianNB()\n",
    "y_pred = gnb.fit(X1, y1).predict(X2)\n",
    "\n",
    "print len(y_pred)\n",
    "print \"***********NAIVE BAYE ACcuracy**********\"\n",
    "print metrics.accuracy_score(y2, y_pred)\n"
   ]
  },
  {
   "cell_type": "code",
   "execution_count": 3,
   "metadata": {
    "collapsed": false
   },
   "outputs": [
    {
     "name": "stdout",
     "output_type": "stream",
     "text": [
      "(140707, 76)\n",
      "After PCA DIMENSION\n",
      "(140707, 3)\n",
      "(1000, 3)\n",
      "(140707,)\n",
      "(1000,)\n"
     ]
    }
   ],
   "source": [
    "print X.shape\n",
    "pca = decomposition.PCA(n_components=3)\n",
    "pca.fit(X)\n",
    "\n",
    "X = pca.transform(X)\n",
    "\n",
    "X1 = X\n",
    "print \"After PCA DIMENSION\"\n",
    "print X1.shape\n",
    "X1 = X[0:1000,0:3]\n",
    "print X1.shape\n",
    "\n",
    "y = label_array\n",
    "print y.shape\n",
    "y1 = label_array[0:1000,]\n",
    "print y1.shape"
   ]
  },
  {
   "cell_type": "code",
   "execution_count": 4,
   "metadata": {
    "collapsed": false
   },
   "outputs": [
    {
     "name": "stdout",
     "output_type": "stream",
     "text": [
      "(1000, 3)\n",
      "(1000,)\n",
      "1000\n",
      "***********NAIVE BAYE ACcuracy**********\n",
      "0.883\n"
     ]
    }
   ],
   "source": [
    "X2 = X\n",
    "X2 = X[1000:2000,0:3]\n",
    "print X2.shape\n",
    "\n",
    "y2 = label_array[1000:2000,]\n",
    "print y2.shape\n",
    "\n",
    "from sklearn.naive_bayes import GaussianNB\n",
    "gnb = GaussianNB()\n",
    "y_pred = gnb.fit(X1, y1).predict(X2)\n",
    "\n",
    "print len(y_pred)\n",
    "print \"***********NAIVE BAYE ACcuracy**********\"\n",
    "print metrics.accuracy_score(y2, y_pred)\n"
   ]
  },
  {
   "cell_type": "code",
   "execution_count": null,
   "metadata": {
    "collapsed": true
   },
   "outputs": [],
   "source": []
  }
 ],
 "metadata": {
  "kernelspec": {
   "display_name": "Python 2",
   "language": "python",
   "name": "python2"
  },
  "language_info": {
   "codemirror_mode": {
    "name": "ipython",
    "version": 2
   },
   "file_extension": ".py",
   "mimetype": "text/x-python",
   "name": "python",
   "nbconvert_exporter": "python",
   "pygments_lexer": "ipython2",
   "version": "2.7.11"
  }
 },
 "nbformat": 4,
 "nbformat_minor": 0
}

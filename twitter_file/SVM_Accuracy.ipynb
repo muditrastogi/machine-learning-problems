{
 "cells": [
  {
   "cell_type": "code",
   "execution_count": 1,
   "metadata": {
    "collapsed": false
   },
   "outputs": [
    {
     "name": "stdout",
     "output_type": "stream",
     "text": [
      "hello numpy\n"
     ]
    }
   ],
   "source": [
    "from numpy import *\n",
    "from sklearn import svm\n",
    "from sklearn import metrics\n",
    "import pandas as pd\n",
    "import matplotlib.pyplot as plt\n",
    "import csv\n",
    "import numpy as np\n",
    "#data = open(\"Twitter-Absolute-Sigma-500.csv\")\n",
    "#datareader = csv.reader(data)\n",
    "#datalist = list(datareader)\n",
    "#print len(datalist)\n",
    "print \"hello numpy\""
   ]
  },
  {
   "cell_type": "code",
   "execution_count": null,
   "metadata": {
    "collapsed": false
   },
   "outputs": [
    {
     "name": "stdout",
     "output_type": "stream",
     "text": [
      "(140707, 76)\n",
      "(2000, 76)\n",
      "(140707,)\n",
      "(2000,)\n"
     ]
    }
   ],
   "source": [
    "data_array = np.genfromtxt(\n",
    "    'Twitter-Absolute-Sigma-500.csv',           # file name\n",
    "    skip_header=0,          # lines to skip at the top\n",
    "    skip_footer=0,          # lines to skip at the bottom\n",
    "    delimiter=',',          # column delimiter\n",
    "    dtype='float32'        # data type\n",
    "    ) \n",
    "\n",
    "label_array = np.genfromtxt(\n",
    "    'twitter_label.csv',           # file name\n",
    "    skip_header=0,          # lines to skip at the top\n",
    "    skip_footer=0,          # lines to skip at the bottom\n",
    "    delimiter=',',          # column delimiter\n",
    "    dtype='float32'        # data type\n",
    "    ) \n",
    "\n",
    "h = 50\n",
    "\n",
    "\n",
    "X = data_array[:, 0:76]\n",
    "print X.shape\n",
    "X1 = data_array[0:2000,0:76]\n",
    "print X1.shape\n",
    "\n",
    "y = label_array\n",
    "print y.shape\n",
    "y1 = label_array[0:2000,]\n",
    "print y1.shape\n",
    "\n",
    "C = 1.0  # SVM regularization parameter\n",
    "svc = svm.SVC(kernel='linear', C=C).fit(X1, y1)\n",
    "print svc\n",
    "print \"hello SVC\"\n",
    "\n",
    "X2 = data_array[2000:4000,0:76]\n",
    "print X2.shape\n",
    "\n",
    "y2 = label_array[2000:4000,]\n",
    "print y2.shape\n",
    "\n",
    "y_pre = svc.predict(X2)\n",
    "\n",
    "print len(y_pre)\n",
    "print \"***********New ACcuracy**********\"\n",
    "print metrics.accuracy_score(y2, y_pre)\n",
    "\n",
    "\n",
    "\n",
    "# x_min, x_max = X1[:, 0].min() - 1, X1[:, 0].max() + 1\n",
    "# y_min, y_max = X1[:, 1].min() - 1, X1[:, 1].max() + 1\n",
    "# xx, yy = np.meshgrid(np.arange(x_min, x_max, h),\n",
    "#                      np.arange(y_min, y_max, h))\n",
    "\n",
    "# Z = svc.predict(np.c_[xx.ravel(), yy.ravel()])\n",
    "\n",
    "# # Put the result into a color plot\n",
    "# Z = Z.reshape(xx.shape)\n",
    "# print Z\n",
    "# print \"hello Z\"\n",
    "# plt.contourf(xx, yy, Z, cmap=plt.cm.Paired, alpha=0.8)\n",
    "\n",
    "# # Plot also the training points\n",
    "# plt.scatter(X1[:, 0], X1[:, 1], c=y1, cmap=plt.cm.Paired)\n",
    "# plt.xlabel('Attribute 1')\n",
    "# plt.ylabel('Attribute 2')\n",
    "# plt.xlim(xx.min(), xx.max())\n",
    "# plt.ylim(yy.min(), yy.max())\n",
    "# plt.xticks(())\n",
    "# plt.yticks(())\n",
    "# plt.title(\"Classification\")\n",
    "# plt.show()\n"
   ]
  },
  {
   "cell_type": "code",
   "execution_count": null,
   "metadata": {
    "collapsed": true
   },
   "outputs": [],
   "source": []
  },
  {
   "cell_type": "code",
   "execution_count": null,
   "metadata": {
    "collapsed": true
   },
   "outputs": [],
   "source": []
  }
 ],
 "metadata": {
  "kernelspec": {
   "display_name": "Python 2",
   "language": "python",
   "name": "python2"
  },
  "language_info": {
   "codemirror_mode": {
    "name": "ipython",
    "version": 2
   },
   "file_extension": ".py",
   "mimetype": "text/x-python",
   "name": "python",
   "nbconvert_exporter": "python",
   "pygments_lexer": "ipython2",
   "version": "2.7.11"
  }
 },
 "nbformat": 4,
 "nbformat_minor": 0
}

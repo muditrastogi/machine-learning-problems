{
 "cells": [
  {
   "cell_type": "code",
   "execution_count": 1,
   "metadata": {
    "collapsed": false
   },
   "outputs": [
    {
     "name": "stdout",
     "output_type": "stream",
     "text": [
      "hello numpy\n",
      "################PCA #############################\n",
      "(140707, 76)\n",
      "(140707, 3)\n",
      "################SVM##################\n",
      "(140707, 3)\n",
      "(50, 3)\n",
      "(140707,)\n",
      "(50,)\n",
      "OK\n",
      "SVC(C=1.0, cache_size=200, class_weight=None, coef0=0.0,\n",
      "  decision_function_shape=None, degree=3, gamma=0.7, kernel='rbf',\n",
      "  max_iter=-1, probability=False, random_state=None, shrinking=True,\n",
      "  tol=0.001, verbose=False)\n",
      "hello rbfSVC\n",
      "(50, 3)\n",
      "(50,)\n",
      "Loading...........\n",
      "50\n",
      "***********SVM ACcuracy**********\n",
      "1.0\n",
      "OK\n"
     ]
    }
   ],
   "source": [
    "from numpy import *\n",
    "from sklearn import svm\n",
    "from sklearn import metrics\n",
    "from sklearn import decomposition\n",
    "import pandas as pd\n",
    "import matplotlib.pyplot as plt\n",
    "import csv\n",
    "import numpy as np\n",
    "print \"hello numpy\"\n",
    "\n",
    "data_array = np.genfromtxt(\n",
    "    'Twitter-Absolute-Sigma-500.csv',           # file name\n",
    "    skip_header=0,          # lines to skip at the top\n",
    "    skip_footer=0,          # lines to skip at the bottom\n",
    "    delimiter=',',          # column delimiter\n",
    "    dtype='float32'        # data type\n",
    "    ) \n",
    "\n",
    "label_array = np.genfromtxt(\n",
    "    'twitter_label.csv',           # file name\n",
    "    skip_header=0,          # lines to skip at the top\n",
    "    skip_footer=0,          # lines to skip at the bottom\n",
    "    delimiter=',',          # column delimiter\n",
    "    dtype='float32'        # data type\n",
    "    ) \n",
    "\n",
    "h = 50\n",
    "\n",
    "X = data_array[:, 0:76]\n",
    "\n",
    "print \"################PCA #############################\"\n",
    "print X.shape\n",
    "pca = decomposition.PCA(n_components=3)\n",
    "pca.fit(X)\n",
    "X = pca.transform(X)\n",
    "print X.shape\n",
    "\n",
    "\n",
    "print \"################SVM##################\"\n",
    "\n",
    "X = data_array[:, 0:3]\n",
    "print X.shape\n",
    "X1 = X\n",
    "\n",
    "X1 = data_array[0:50,0:3]\n",
    "print X1.shape\n",
    "\n",
    "y = label_array\n",
    "print y.shape\n",
    "y1 = label_array[0:50,]\n",
    "print y1.shape\n",
    "print \"OK\"\n",
    "\n",
    "\n",
    "C = 1.0  # SVM regularization parameter\n",
    "rbf_svc = svm.SVC(kernel='rbf', gamma=0.7, C=C).fit(X1, y1)\n",
    "print rbf_svc\n",
    "print \"hello rbfSVC\"\n",
    "X2 = X\n",
    "X2 = data_array[50:100,0:3]\n",
    "print X2.shape\n",
    "\n",
    "y2 = label_array[50:100,]\n",
    "print y2.shape\n",
    "print \"Loading...........\"\n",
    "y_pre = rbf_svc.predict(X2)\n",
    "\n",
    "print len(y_pre)\n",
    "print \"***********SVM ACcuracy**********\"\n",
    "print metrics.accuracy_score(y2, y_pre)\n",
    "print \"OK\"\n",
    "\n"
   ]
  },
  {
   "cell_type": "code",
   "execution_count": null,
   "metadata": {
    "collapsed": true
   },
   "outputs": [],
   "source": []
  }
 ],
 "metadata": {
  "kernelspec": {
   "display_name": "Python 2",
   "language": "python",
   "name": "python2"
  },
  "language_info": {
   "codemirror_mode": {
    "name": "ipython",
    "version": 2
   },
   "file_extension": ".py",
   "mimetype": "text/x-python",
   "name": "python",
   "nbconvert_exporter": "python",
   "pygments_lexer": "ipython2",
   "version": "2.7.13"
  }
 },
 "nbformat": 4,
 "nbformat_minor": 0
}
